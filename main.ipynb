{
 "cells": [
  {
   "cell_type": "markdown",
   "metadata": {},
   "source": [
    "TUGAS BESAR IF2220 PROBABILITAS DAN STATISTIKA\n",
    "\n",
    "PENARIKAN KESIMPULAN DAN PENGUJIAN HIPOTESIS\n",
    "\n",
    "\n",
    "KEVIN RONI 13520114\n",
    "\n",
    "YOSEPH ALEXANDER SIREGAR 13520141"
   ]
  },
  {
   "cell_type": "code",
   "execution_count": 43,
   "metadata": {},
   "outputs": [
    {
     "data": {
      "text/html": [
       "<div>\n",
       "<style scoped>\n",
       "    .dataframe tbody tr th:only-of-type {\n",
       "        vertical-align: middle;\n",
       "    }\n",
       "\n",
       "    .dataframe tbody tr th {\n",
       "        vertical-align: top;\n",
       "    }\n",
       "\n",
       "    .dataframe thead th {\n",
       "        text-align: right;\n",
       "    }\n",
       "</style>\n",
       "<table border=\"1\" class=\"dataframe\">\n",
       "  <thead>\n",
       "    <tr style=\"text-align: right;\">\n",
       "      <th></th>\n",
       "      <th>iD</th>\n",
       "      <th>pH</th>\n",
       "      <th>Hardness</th>\n",
       "      <th>Solids</th>\n",
       "      <th>Chloramines</th>\n",
       "      <th>Sulfate</th>\n",
       "      <th>Conductivity</th>\n",
       "      <th>OrganicCarbon</th>\n",
       "      <th>Trihalomethanes</th>\n",
       "      <th>Turbidity</th>\n",
       "      <th>Potabilty</th>\n",
       "    </tr>\n",
       "  </thead>\n",
       "  <tbody>\n",
       "    <tr>\n",
       "      <th>0</th>\n",
       "      <td>1</td>\n",
       "      <td>8.316766</td>\n",
       "      <td>214.373394</td>\n",
       "      <td>22018.417441</td>\n",
       "      <td>8.059332</td>\n",
       "      <td>356.886136</td>\n",
       "      <td>363.266516</td>\n",
       "      <td>18.436524</td>\n",
       "      <td>100.341674</td>\n",
       "      <td>4.628771</td>\n",
       "      <td>0</td>\n",
       "    </tr>\n",
       "    <tr>\n",
       "      <th>1</th>\n",
       "      <td>2</td>\n",
       "      <td>9.092223</td>\n",
       "      <td>181.101509</td>\n",
       "      <td>17978.986339</td>\n",
       "      <td>6.546600</td>\n",
       "      <td>310.135738</td>\n",
       "      <td>398.410813</td>\n",
       "      <td>11.558279</td>\n",
       "      <td>31.997993</td>\n",
       "      <td>4.075075</td>\n",
       "      <td>0</td>\n",
       "    </tr>\n",
       "    <tr>\n",
       "      <th>2</th>\n",
       "      <td>3</td>\n",
       "      <td>5.584087</td>\n",
       "      <td>188.313324</td>\n",
       "      <td>28748.687739</td>\n",
       "      <td>7.544869</td>\n",
       "      <td>326.678363</td>\n",
       "      <td>280.467916</td>\n",
       "      <td>8.399735</td>\n",
       "      <td>54.917862</td>\n",
       "      <td>2.559708</td>\n",
       "      <td>0</td>\n",
       "    </tr>\n",
       "    <tr>\n",
       "      <th>3</th>\n",
       "      <td>4</td>\n",
       "      <td>10.223862</td>\n",
       "      <td>248.071735</td>\n",
       "      <td>28749.716544</td>\n",
       "      <td>7.513408</td>\n",
       "      <td>393.663396</td>\n",
       "      <td>283.651634</td>\n",
       "      <td>13.789695</td>\n",
       "      <td>84.603556</td>\n",
       "      <td>2.672989</td>\n",
       "      <td>0</td>\n",
       "    </tr>\n",
       "    <tr>\n",
       "      <th>4</th>\n",
       "      <td>5</td>\n",
       "      <td>8.635849</td>\n",
       "      <td>203.361523</td>\n",
       "      <td>13672.091764</td>\n",
       "      <td>4.563009</td>\n",
       "      <td>303.309771</td>\n",
       "      <td>474.607645</td>\n",
       "      <td>12.363817</td>\n",
       "      <td>62.798309</td>\n",
       "      <td>4.401425</td>\n",
       "      <td>0</td>\n",
       "    </tr>\n",
       "    <tr>\n",
       "      <th>...</th>\n",
       "      <td>...</td>\n",
       "      <td>...</td>\n",
       "      <td>...</td>\n",
       "      <td>...</td>\n",
       "      <td>...</td>\n",
       "      <td>...</td>\n",
       "      <td>...</td>\n",
       "      <td>...</td>\n",
       "      <td>...</td>\n",
       "      <td>...</td>\n",
       "      <td>...</td>\n",
       "    </tr>\n",
       "    <tr>\n",
       "      <th>2005</th>\n",
       "      <td>2006</td>\n",
       "      <td>8.197353</td>\n",
       "      <td>203.105091</td>\n",
       "      <td>27701.794055</td>\n",
       "      <td>6.472914</td>\n",
       "      <td>328.886838</td>\n",
       "      <td>444.612724</td>\n",
       "      <td>14.250875</td>\n",
       "      <td>62.906205</td>\n",
       "      <td>3.361833</td>\n",
       "      <td>1</td>\n",
       "    </tr>\n",
       "    <tr>\n",
       "      <th>2006</th>\n",
       "      <td>2007</td>\n",
       "      <td>8.989900</td>\n",
       "      <td>215.047358</td>\n",
       "      <td>15921.412018</td>\n",
       "      <td>6.297312</td>\n",
       "      <td>312.931022</td>\n",
       "      <td>390.410231</td>\n",
       "      <td>9.899115</td>\n",
       "      <td>55.069304</td>\n",
       "      <td>4.613843</td>\n",
       "      <td>1</td>\n",
       "    </tr>\n",
       "    <tr>\n",
       "      <th>2007</th>\n",
       "      <td>2008</td>\n",
       "      <td>6.702547</td>\n",
       "      <td>207.321086</td>\n",
       "      <td>17246.920347</td>\n",
       "      <td>7.708117</td>\n",
       "      <td>304.510230</td>\n",
       "      <td>329.266002</td>\n",
       "      <td>16.217303</td>\n",
       "      <td>28.878601</td>\n",
       "      <td>3.442983</td>\n",
       "      <td>1</td>\n",
       "    </tr>\n",
       "    <tr>\n",
       "      <th>2008</th>\n",
       "      <td>2009</td>\n",
       "      <td>11.491011</td>\n",
       "      <td>94.812545</td>\n",
       "      <td>37188.826022</td>\n",
       "      <td>9.263166</td>\n",
       "      <td>258.930600</td>\n",
       "      <td>439.893618</td>\n",
       "      <td>16.172755</td>\n",
       "      <td>41.558501</td>\n",
       "      <td>4.369264</td>\n",
       "      <td>1</td>\n",
       "    </tr>\n",
       "    <tr>\n",
       "      <th>2009</th>\n",
       "      <td>2010</td>\n",
       "      <td>6.069616</td>\n",
       "      <td>186.659040</td>\n",
       "      <td>26138.780191</td>\n",
       "      <td>7.747547</td>\n",
       "      <td>345.700257</td>\n",
       "      <td>415.886955</td>\n",
       "      <td>12.067620</td>\n",
       "      <td>60.419921</td>\n",
       "      <td>3.669712</td>\n",
       "      <td>1</td>\n",
       "    </tr>\n",
       "  </tbody>\n",
       "</table>\n",
       "<p>2010 rows × 11 columns</p>\n",
       "</div>"
      ],
      "text/plain": [
       "        iD         pH    Hardness        Solids  Chloramines     Sulfate  \\\n",
       "0        1   8.316766  214.373394  22018.417441     8.059332  356.886136   \n",
       "1        2   9.092223  181.101509  17978.986339     6.546600  310.135738   \n",
       "2        3   5.584087  188.313324  28748.687739     7.544869  326.678363   \n",
       "3        4  10.223862  248.071735  28749.716544     7.513408  393.663396   \n",
       "4        5   8.635849  203.361523  13672.091764     4.563009  303.309771   \n",
       "...    ...        ...         ...           ...          ...         ...   \n",
       "2005  2006   8.197353  203.105091  27701.794055     6.472914  328.886838   \n",
       "2006  2007   8.989900  215.047358  15921.412018     6.297312  312.931022   \n",
       "2007  2008   6.702547  207.321086  17246.920347     7.708117  304.510230   \n",
       "2008  2009  11.491011   94.812545  37188.826022     9.263166  258.930600   \n",
       "2009  2010   6.069616  186.659040  26138.780191     7.747547  345.700257   \n",
       "\n",
       "      Conductivity  OrganicCarbon  Trihalomethanes  Turbidity  Potabilty  \n",
       "0       363.266516      18.436524       100.341674   4.628771          0  \n",
       "1       398.410813      11.558279        31.997993   4.075075          0  \n",
       "2       280.467916       8.399735        54.917862   2.559708          0  \n",
       "3       283.651634      13.789695        84.603556   2.672989          0  \n",
       "4       474.607645      12.363817        62.798309   4.401425          0  \n",
       "...            ...            ...              ...        ...        ...  \n",
       "2005    444.612724      14.250875        62.906205   3.361833          1  \n",
       "2006    390.410231       9.899115        55.069304   4.613843          1  \n",
       "2007    329.266002      16.217303        28.878601   3.442983          1  \n",
       "2008    439.893618      16.172755        41.558501   4.369264          1  \n",
       "2009    415.886955      12.067620        60.419921   3.669712          1  \n",
       "\n",
       "[2010 rows x 11 columns]"
      ]
     },
     "execution_count": 43,
     "metadata": {},
     "output_type": "execute_result"
    }
   ],
   "source": [
    "#IMPORT MODULE & LOAD CSV\n",
    "import pandas as pd\n",
    "import matplotlib.pyplot as plt\n",
    "import numpy as np\n",
    "import seaborn as sns\n",
    "import scipy.stats as scst\n",
    "import math\n",
    "from statsmodels.stats.proportion import proportions_ztest\n",
    "\n",
    "df = pd.read_csv('water_potability.csv', header=None)\n",
    "df.columns = [\"iD\", \"pH\", \"Hardness\", \"Solids\", \"Chloramines\", \"Sulfate\", \"Conductivity\", \"OrganicCarbon\", \"Trihalomethanes\", \"Turbidity\", \"Potabilty\"]\n",
    "df"
   ]
  },
  {
   "cell_type": "markdown",
   "metadata": {},
   "source": [
    "#### 1. Menulis deskripsi statistika (Descriptive Statistics) dari semua kolom pada data yang bersifat numerik, terdiri dari mean, median, modus, standar deviasi, variansi, range, nilai minimum, maksimum, kuartil, IQR, skewness dan kurtosis. Boleh juga ditambahkan deskripsi lain."
   ]
  },
  {
   "cell_type": "code",
   "execution_count": 3,
   "metadata": {},
   "outputs": [
    {
     "data": {
      "text/html": [
       "<div>\n",
       "<style scoped>\n",
       "    .dataframe tbody tr th:only-of-type {\n",
       "        vertical-align: middle;\n",
       "    }\n",
       "\n",
       "    .dataframe tbody tr th {\n",
       "        vertical-align: top;\n",
       "    }\n",
       "\n",
       "    .dataframe thead th {\n",
       "        text-align: right;\n",
       "    }\n",
       "</style>\n",
       "<table border=\"1\" class=\"dataframe\">\n",
       "  <thead>\n",
       "    <tr style=\"text-align: right;\">\n",
       "      <th></th>\n",
       "      <th>Mean</th>\n",
       "      <th>Median</th>\n",
       "      <th>Standard Deviation</th>\n",
       "      <th>Variance</th>\n",
       "      <th>Range</th>\n",
       "      <th>Min</th>\n",
       "      <th>Max</th>\n",
       "      <th>Q1</th>\n",
       "      <th>Q3</th>\n",
       "      <th>IQR</th>\n",
       "      <th>Skewness</th>\n",
       "      <th>Kurtosis</th>\n",
       "    </tr>\n",
       "  </thead>\n",
       "  <tbody>\n",
       "    <tr>\n",
       "      <th>pH</th>\n",
       "      <td>7.087193</td>\n",
       "      <td>7.029490</td>\n",
       "      <td>1.572803</td>\n",
       "      <td>2.473709e+00</td>\n",
       "      <td>13.772501</td>\n",
       "      <td>0.227499</td>\n",
       "      <td>14.000000</td>\n",
       "      <td>6.090785</td>\n",
       "      <td>8.053006</td>\n",
       "      <td>1.962221</td>\n",
       "      <td>0.048535</td>\n",
       "      <td>0.626904</td>\n",
       "    </tr>\n",
       "    <tr>\n",
       "      <th>Hardness</th>\n",
       "      <td>195.969209</td>\n",
       "      <td>197.203525</td>\n",
       "      <td>32.643166</td>\n",
       "      <td>1.065576e+03</td>\n",
       "      <td>243.845890</td>\n",
       "      <td>73.492234</td>\n",
       "      <td>317.338124</td>\n",
       "      <td>176.740657</td>\n",
       "      <td>216.447589</td>\n",
       "      <td>39.706932</td>\n",
       "      <td>-0.085321</td>\n",
       "      <td>0.525480</td>\n",
       "    </tr>\n",
       "    <tr>\n",
       "      <th>Solids</th>\n",
       "      <td>21904.673439</td>\n",
       "      <td>20926.882155</td>\n",
       "      <td>8625.397911</td>\n",
       "      <td>7.439749e+07</td>\n",
       "      <td>56167.729801</td>\n",
       "      <td>320.942611</td>\n",
       "      <td>56488.672413</td>\n",
       "      <td>15614.412962</td>\n",
       "      <td>27170.534649</td>\n",
       "      <td>11556.121687</td>\n",
       "      <td>0.591011</td>\n",
       "      <td>0.337320</td>\n",
       "    </tr>\n",
       "    <tr>\n",
       "      <th>Chloramines</th>\n",
       "      <td>7.134322</td>\n",
       "      <td>7.142014</td>\n",
       "      <td>1.585214</td>\n",
       "      <td>2.512904e+00</td>\n",
       "      <td>11.736129</td>\n",
       "      <td>1.390871</td>\n",
       "      <td>13.127000</td>\n",
       "      <td>6.138326</td>\n",
       "      <td>8.109933</td>\n",
       "      <td>1.971607</td>\n",
       "      <td>0.013003</td>\n",
       "      <td>0.549782</td>\n",
       "    </tr>\n",
       "    <tr>\n",
       "      <th>Sulfate</th>\n",
       "      <td>333.211376</td>\n",
       "      <td>332.214113</td>\n",
       "      <td>41.211111</td>\n",
       "      <td>1.698356e+03</td>\n",
       "      <td>352.030642</td>\n",
       "      <td>129.000000</td>\n",
       "      <td>481.030642</td>\n",
       "      <td>307.626986</td>\n",
       "      <td>359.268147</td>\n",
       "      <td>51.641161</td>\n",
       "      <td>-0.045728</td>\n",
       "      <td>0.786854</td>\n",
       "    </tr>\n",
       "    <tr>\n",
       "      <th>Conductivity</th>\n",
       "      <td>426.476708</td>\n",
       "      <td>423.438372</td>\n",
       "      <td>80.701872</td>\n",
       "      <td>6.512792e+03</td>\n",
       "      <td>551.722883</td>\n",
       "      <td>201.619737</td>\n",
       "      <td>753.342620</td>\n",
       "      <td>366.619219</td>\n",
       "      <td>482.209772</td>\n",
       "      <td>115.590553</td>\n",
       "      <td>0.268012</td>\n",
       "      <td>-0.237206</td>\n",
       "    </tr>\n",
       "    <tr>\n",
       "      <th>OrganicCarbon</th>\n",
       "      <td>14.357940</td>\n",
       "      <td>14.323286</td>\n",
       "      <td>3.325770</td>\n",
       "      <td>1.106075e+01</td>\n",
       "      <td>24.806707</td>\n",
       "      <td>2.200000</td>\n",
       "      <td>27.006707</td>\n",
       "      <td>12.122530</td>\n",
       "      <td>16.683562</td>\n",
       "      <td>4.561031</td>\n",
       "      <td>-0.020220</td>\n",
       "      <td>0.031018</td>\n",
       "    </tr>\n",
       "    <tr>\n",
       "      <th>Trihalomethanes</th>\n",
       "      <td>66.400717</td>\n",
       "      <td>66.482041</td>\n",
       "      <td>16.081109</td>\n",
       "      <td>2.586021e+02</td>\n",
       "      <td>115.422987</td>\n",
       "      <td>8.577013</td>\n",
       "      <td>124.000000</td>\n",
       "      <td>55.949993</td>\n",
       "      <td>77.294613</td>\n",
       "      <td>21.344620</td>\n",
       "      <td>-0.051383</td>\n",
       "      <td>0.223017</td>\n",
       "    </tr>\n",
       "    <tr>\n",
       "      <th>Turbidity</th>\n",
       "      <td>3.969497</td>\n",
       "      <td>3.967374</td>\n",
       "      <td>0.780471</td>\n",
       "      <td>6.091350e-01</td>\n",
       "      <td>5.044749</td>\n",
       "      <td>1.450000</td>\n",
       "      <td>6.494749</td>\n",
       "      <td>3.442882</td>\n",
       "      <td>4.514663</td>\n",
       "      <td>1.071781</td>\n",
       "      <td>-0.032266</td>\n",
       "      <td>-0.049831</td>\n",
       "    </tr>\n",
       "  </tbody>\n",
       "</table>\n",
       "</div>"
      ],
      "text/plain": [
       "                         Mean        Median  Standard Deviation      Variance  \\\n",
       "pH                   7.087193      7.029490            1.572803  2.473709e+00   \n",
       "Hardness           195.969209    197.203525           32.643166  1.065576e+03   \n",
       "Solids           21904.673439  20926.882155         8625.397911  7.439749e+07   \n",
       "Chloramines          7.134322      7.142014            1.585214  2.512904e+00   \n",
       "Sulfate            333.211376    332.214113           41.211111  1.698356e+03   \n",
       "Conductivity       426.476708    423.438372           80.701872  6.512792e+03   \n",
       "OrganicCarbon       14.357940     14.323286            3.325770  1.106075e+01   \n",
       "Trihalomethanes     66.400717     66.482041           16.081109  2.586021e+02   \n",
       "Turbidity            3.969497      3.967374            0.780471  6.091350e-01   \n",
       "\n",
       "                        Range         Min           Max            Q1  \\\n",
       "pH                  13.772501    0.227499     14.000000      6.090785   \n",
       "Hardness           243.845890   73.492234    317.338124    176.740657   \n",
       "Solids           56167.729801  320.942611  56488.672413  15614.412962   \n",
       "Chloramines         11.736129    1.390871     13.127000      6.138326   \n",
       "Sulfate            352.030642  129.000000    481.030642    307.626986   \n",
       "Conductivity       551.722883  201.619737    753.342620    366.619219   \n",
       "OrganicCarbon       24.806707    2.200000     27.006707     12.122530   \n",
       "Trihalomethanes    115.422987    8.577013    124.000000     55.949993   \n",
       "Turbidity            5.044749    1.450000      6.494749      3.442882   \n",
       "\n",
       "                           Q3           IQR  Skewness  Kurtosis  \n",
       "pH                   8.053006      1.962221  0.048535  0.626904  \n",
       "Hardness           216.447589     39.706932 -0.085321  0.525480  \n",
       "Solids           27170.534649  11556.121687  0.591011  0.337320  \n",
       "Chloramines          8.109933      1.971607  0.013003  0.549782  \n",
       "Sulfate            359.268147     51.641161 -0.045728  0.786854  \n",
       "Conductivity       482.209772    115.590553  0.268012 -0.237206  \n",
       "OrganicCarbon       16.683562      4.561031 -0.020220  0.031018  \n",
       "Trihalomethanes     77.294613     21.344620 -0.051383  0.223017  \n",
       "Turbidity            4.514663      1.071781 -0.032266 -0.049831  "
      ]
     },
     "execution_count": 3,
     "metadata": {},
     "output_type": "execute_result"
    }
   ],
   "source": [
    "df1 = df.drop(columns=[\"iD\", \"Potabilty\"])\n",
    "stats = pd.DataFrame()\n",
    "stats[\"Mean\"] = df1.mean()\n",
    "stats[\"Median\"] = df1.median()\n",
    "stats[\"Standard Deviation\"] = df1.std()\n",
    "stats[\"Variance\"] = df1.var()\n",
    "stats[\"Range\"] = df1.max() - df1.min()\n",
    "stats[\"Min\"] = df1.min()\n",
    "stats[\"Max\"] = df1.max()\n",
    "stats[\"Q1\"] = df1.quantile(0.25)\n",
    "stats[\"Q3\"] = df1.quantile(0.75)\n",
    "stats[\"IQR\"] = stats[\"Q3\"] - stats[\"Q1\"]\n",
    "stats[\"Skewness\"] = df1.skew()\n",
    "stats[\"Kurtosis\"] = df1.kurt()\n",
    "stats"
   ]
  },
  {
   "cell_type": "markdown",
   "metadata": {},
   "source": [
    "### 2. Membuat Visualisasi plot distribusi, dalam bentuk histogram dan boxplot untuk setiap kolom numerik. Berikan uraian penjelasan kondisi setiap kolom berdasarkan kedua plot tersebut."
   ]
  },
  {
   "cell_type": "markdown",
   "metadata": {},
   "source": [
    "a. Kolom PH"
   ]
  },
  {
   "cell_type": "code",
   "execution_count": null,
   "metadata": {},
   "outputs": [],
   "source": [
    "sns.histplot(data = df[\"pH\"])\n",
    "plt.show()"
   ]
  },
  {
   "cell_type": "code",
   "execution_count": null,
   "metadata": {},
   "outputs": [],
   "source": [
    "df[\"pH\"].plot(kind=\"box\")\n",
    "plt.show()"
   ]
  },
  {
   "cell_type": "markdown",
   "metadata": {},
   "source": [
    "b. Kolom Hardness"
   ]
  },
  {
   "cell_type": "code",
   "execution_count": null,
   "metadata": {},
   "outputs": [],
   "source": [
    "sns.histplot(data = df[\"Hardness\"])\n",
    "plt.show()"
   ]
  },
  {
   "cell_type": "code",
   "execution_count": null,
   "metadata": {},
   "outputs": [],
   "source": [
    "df[\"Hardness\"].plot(kind=\"box\")\n",
    "plt.show()"
   ]
  },
  {
   "cell_type": "markdown",
   "metadata": {},
   "source": [
    "c. Kolom Solids"
   ]
  },
  {
   "cell_type": "code",
   "execution_count": null,
   "metadata": {},
   "outputs": [],
   "source": [
    "sns.histplot(data = df[\"Solids\"])"
   ]
  },
  {
   "cell_type": "code",
   "execution_count": null,
   "metadata": {},
   "outputs": [],
   "source": [
    "df[\"Solids\"].plot(kind=\"box\")"
   ]
  },
  {
   "cell_type": "markdown",
   "metadata": {},
   "source": [
    "d. Kolom Chloramines"
   ]
  },
  {
   "cell_type": "code",
   "execution_count": null,
   "metadata": {},
   "outputs": [],
   "source": [
    "sns.histplot(data = df[\"Chloramines\"])"
   ]
  },
  {
   "cell_type": "code",
   "execution_count": null,
   "metadata": {},
   "outputs": [],
   "source": [
    "df[\"Chloramines\"].plot(kind=\"box\")"
   ]
  },
  {
   "cell_type": "markdown",
   "metadata": {},
   "source": [
    "e. Kolom Sulfate"
   ]
  },
  {
   "cell_type": "code",
   "execution_count": null,
   "metadata": {},
   "outputs": [],
   "source": [
    "sns.histplot(data = df[\"Sulfate\"])"
   ]
  },
  {
   "cell_type": "code",
   "execution_count": null,
   "metadata": {},
   "outputs": [],
   "source": [
    "df[\"Sulfate\"].plot(kind=\"box\")"
   ]
  },
  {
   "cell_type": "markdown",
   "metadata": {},
   "source": [
    "f. Kolom Conductivity"
   ]
  },
  {
   "cell_type": "code",
   "execution_count": null,
   "metadata": {},
   "outputs": [],
   "source": [
    "sns.histplot(data = df[\"Conductivity\"])"
   ]
  },
  {
   "cell_type": "code",
   "execution_count": null,
   "metadata": {},
   "outputs": [],
   "source": [
    "df[\"Conductivity\"].plot(kind=\"box\")"
   ]
  },
  {
   "cell_type": "markdown",
   "metadata": {},
   "source": [
    "g. Kolom OrganicCarbon"
   ]
  },
  {
   "cell_type": "code",
   "execution_count": null,
   "metadata": {},
   "outputs": [],
   "source": [
    "sns.histplot(data = df[\"OrganicCarbon\"])"
   ]
  },
  {
   "cell_type": "code",
   "execution_count": null,
   "metadata": {},
   "outputs": [],
   "source": [
    "df[\"OrganicCarbon\"].plot(kind=\"box\")"
   ]
  },
  {
   "cell_type": "markdown",
   "metadata": {},
   "source": [
    "h. Kolom Trihalomethanes"
   ]
  },
  {
   "cell_type": "code",
   "execution_count": null,
   "metadata": {},
   "outputs": [],
   "source": [
    "sns.histplot(data = df[\"Trihalomethanes\"])"
   ]
  },
  {
   "cell_type": "code",
   "execution_count": null,
   "metadata": {},
   "outputs": [],
   "source": [
    "df[\"Trihalomethanes\"].plot(kind=\"box\")"
   ]
  },
  {
   "cell_type": "markdown",
   "metadata": {},
   "source": [
    "i. Kolom Turbidity"
   ]
  },
  {
   "cell_type": "code",
   "execution_count": null,
   "metadata": {},
   "outputs": [],
   "source": [
    "sns.histplot(data = df[\"Turbidity\"])\n",
    "plt.show()"
   ]
  },
  {
   "cell_type": "code",
   "execution_count": null,
   "metadata": {},
   "outputs": [],
   "source": [
    "df[\"Turbidity\"].plot(kind=\"box\")\n",
    "plt.show()"
   ]
  },
  {
   "cell_type": "markdown",
   "metadata": {},
   "source": [
    "#### 3. Menentukan setiap kolom numerik berdistribusi normal atau tidak. Gunakan normality test yang dikaitkan dengan histogram plot."
   ]
  },
  {
   "cell_type": "code",
   "execution_count": null,
   "metadata": {},
   "outputs": [],
   "source": [
    "def normality_test(data):\n",
    "    stat, p_value = stats.shapiro(data)\n",
    "    print(\"Shapiro-Wilk Test:\")\n",
    "    print(\"Statistics=%.3f, p=%.3f\" % (stat, p_value))\n",
    "\n",
    "normality_test(df[\"pH\"])"
   ]
  },
  {
   "cell_type": "markdown",
   "metadata": {},
   "source": [
    "4. Melakukan test hipotesis 1 sampel, dengan menuliskan 6 langkah testing dan menampilkan\n",
    "juga boxplotnya untuk kolom/bagian yang bersesuaian."
   ]
  },
  {
   "cell_type": "markdown",
   "metadata": {},
   "source": [
    "Akan dilakukan 6 langkah testing, yaitu sebagai berikut:\n",
    "1. Tentukan Hipotesis nol (H0\n",
    ": θ = θ0\n",
    "), dimana θ bisa berupa μ, σ\n",
    "2\n",
    ", p, atau data lain berdistribusi\n",
    "\n",
    "tertentu (normal, binomial, dsc.).\n",
    "\n",
    "2. Pilih hipotesis alternatif H1 salah dari dari θ > θ0\n",
    ", θ < θ0\n",
    ", atau θ ≠ θ0\n",
    ".\n",
    "\n",
    "3. Tentukan tingkat signifikan α.\n",
    "\n",
    "4. Tentukan uji statistik yang sesuai dan tentukan daerah kritis.\n",
    "5. Hitung nilai uji statistik dari data sample. Hitung p-value sesuai dengan uji statistik yang\n",
    "digunakan.\n",
    "6. Ambil keputusan dengan TOLAK H0\n",
    "jika nilai uji terletak di daerah kritis atau dengan tes\n",
    "signifikan, TOLAK H0\n",
    "jika p-value lebih kecil dibanding tingkat signifikansi α yang diinginkan."
   ]
  },
  {
   "cell_type": "code",
   "execution_count": 56,
   "metadata": {},
   "outputs": [],
   "source": [
    "def uji_statistik(data, H0, opt, alpha, Z):\n",
    "    result = scst.ttest_1samp(data, H0, alternative=opt)\n",
    "    print(\"Tes statistik         :\", result.statistic)\n",
    "    print(\"p-value               :\", result.pvalue)\n",
    "    if (result.statistic > Z):\n",
    "        print(\"H0 ditolak karena terletak di daerah kritis\")\n",
    "    else:\n",
    "        print(\"H0 diterima karena terletak di luar daerah kritis\")\n",
    "    if (result.pvalue < alpha):\n",
    "        print(\"H0 ditolak karena p-value lebih kecil dari tingkat signifikasi yang diinginkan\", alpha)\n",
    "    else:\n",
    "        print(\"H0 diterima karena p-value lebih besar dari tingkat signifikasi yang diinginkan\", alpha)\n",
    "\n",
    "def uji_statistik_2(data, H0, opt, alpha, Z):\n",
    "    result = scst.ttest_1samp(data, H0, alternative=opt)\n",
    "    print(\"Tes statistik         :\", result.statistic)\n",
    "    print(\"p-value               :\", result.pvalue)\n",
    "    if (result.statistic > Z or result.statistic < -1*Z):\n",
    "        print(\"H0 ditolak karena terletak di daerah kritis\")\n",
    "    else:\n",
    "        print(\"H0 diterima karena terletak di luar daerah kritis\")\n",
    "    if (result.pvalue < alpha):\n",
    "        print(\"H0 ditolak karena p-value lebih kecil dari tingkat signifikasi yang diinginkan\", alpha)\n",
    "    else:\n",
    "        print(\"H0 diterima karena p-value lebih besar dari tingkat signifikasi yang diinginkan\", alpha)\n",
    "\n",
    "def uji_statistik_proporsi(p,p0,n,Z):\n",
    "    result = (p-p0)/math.sqrt(p0*(1-p0)/n)\n",
    "    print(\"Tes statistik         :\", result)\n",
    "    if (result > Z or result < -1*Z):\n",
    "        print(\"H0 ditolak karena terletak di daerah kritis\")\n",
    "    else:\n",
    "        print(\"H0 diterima karena terletak di luar daerah kritis\")\n",
    "\n",
    "def uji_statistik_proporsi2(p,p0,n,Z):\n",
    "    result = (p-p0)/math.sqrt(p0*(1-p0)/n)\n",
    "    print(\"Tes statistik         :\", result)\n",
    "    if (result < -1*Z):\n",
    "        print(\"H0 ditolak karena terletak di daerah kritis\")\n",
    "    else:\n",
    "        print(\"H0 diterima karena terletak di luar daerah kritis\")"
   ]
  },
  {
   "cell_type": "markdown",
   "metadata": {},
   "source": [
    "a. Nilai Rata-rata pH di atas 7?"
   ]
  },
  {
   "cell_type": "code",
   "execution_count": 19,
   "metadata": {},
   "outputs": [
    {
     "name": "stdout",
     "output_type": "stream",
     "text": [
      "H0                    : μ = 7\n",
      "H1                    : μ > 7\n",
      "Tingkat signifikasi(α): 0.05\n",
      "Daerah kritis``       : Z > 1.645\n",
      "Tes statistik         : 2.485445147379887\n",
      "p-value               : 0.006509872359240925\n",
      "H0 ditolak karena terletak di daerah kritis\n",
      "H0 ditolak karena p-value lebih kecil dari tingkat signifikasi yang diinginkan 0.05\n"
     ]
    }
   ],
   "source": [
    "print(\"H0                    : μ = 7\")\n",
    "print(\"H1                    : μ > 7\")\n",
    "alpha = 0.05\n",
    "print(\"Tingkat signifikasi(α):\", alpha)\n",
    "Z = 1.645\n",
    "print(\"Daerah kritis``       : Z >\", Z)\n",
    "uji_statistik(df[\"pH\"], 7, \"greater\", alpha, Z)"
   ]
  },
  {
   "cell_type": "markdown",
   "metadata": {},
   "source": [
    "Kesimpulannya, H0 akan ditolak"
   ]
  },
  {
   "cell_type": "markdown",
   "metadata": {},
   "source": [
    "b. Nilai Rata-rata Hardness tidak sama dengan 205?"
   ]
  },
  {
   "cell_type": "code",
   "execution_count": 18,
   "metadata": {},
   "outputs": [
    {
     "name": "stdout",
     "output_type": "stream",
     "text": [
      "H0                    : μ = 205\n",
      "H1                    : μ != 205\n",
      "Tingkat signifikasi(α): 0.05\n",
      "Daerah kritis``       : Z > 1.96 or Z < -1.96\n",
      "Tes statistik         : -12.403137170010732\n",
      "p-value               : 4.299181043195823e-34\n",
      "H0 ditolak karena terletak di daerah kritis\n",
      "H0 ditolak karena p-value lebih kecil dari tingkat signifikasi yang diinginkan 0.05\n"
     ]
    }
   ],
   "source": [
    "print(\"H0                    : μ = 205\")\n",
    "print(\"H1                    : μ != 205\")\n",
    "alpha = 0.05\n",
    "print(\"Tingkat signifikasi(α):\", alpha)\n",
    "Z = 1.96\n",
    "print(\"Daerah kritis``       : Z > \" +str(Z)+ \" or Z < -\" +str(Z))\n",
    "uji_statistik_2(df[\"Hardness\"], 205, \"two-sided\", alpha, Z)"
   ]
  },
  {
   "cell_type": "markdown",
   "metadata": {},
   "source": [
    "c. Nilai Rata-rata 100 baris pertama kolom Solids bukan 21900?"
   ]
  },
  {
   "cell_type": "code",
   "execution_count": 20,
   "metadata": {},
   "outputs": [
    {
     "name": "stdout",
     "output_type": "stream",
     "text": [
      "H0                    : μ = 21900\n",
      "H1                    : μ != 21900\n",
      "Tingkat signifikasi(α): 0.05\n",
      "Daerah kritis``       : Z > 1.96 or Z < -1.96\n",
      "Tes statistik         : -5600.9480405405975\n",
      "p-value               : 4.0645072953200257e-274\n",
      "H0 ditolak karena terletak di daerah kritis\n",
      "H0 ditolak karena p-value lebih kecil dari tingkat signifikasi yang diinginkan 0.05\n"
     ]
    }
   ],
   "source": [
    "print(\"H0                    : μ = 21900\")\n",
    "print(\"H1                    : μ != 21900\")\n",
    "alpha = 0.05\n",
    "print(\"Tingkat signifikasi(α):\", alpha)\n",
    "Z = 1.96\n",
    "print(\"Daerah kritis``       : Z > \" +str(Z)+ \" or Z < -\" +str(Z))\n",
    "df_100 = df.head(100)\n",
    "uji_statistik_2(df_100[\"Hardness\"], 21900, \"two-sided\", alpha, Z)"
   ]
  },
  {
   "cell_type": "markdown",
   "metadata": {},
   "source": [
    "d. Proporsi nilai Conductivity yang lebih dari 450, adalah tidak sama dengan\n",
    "10%?"
   ]
  },
  {
   "cell_type": "code",
   "execution_count": 58,
   "metadata": {},
   "outputs": [
    {
     "name": "stdout",
     "output_type": "stream",
     "text": [
      "0.3706467661691542\n",
      "H0                    : P0 = 0.1\n",
      "H1                    : P1 != 0.1\n",
      "Tingkat signifikasi(α): 0.05\n",
      "Daerah kritis         : Z > 1.96 or Z < -1.96\n",
      "Tes statistik         : 40.44637613158932\n",
      "H0 ditolak karena terletak di daerah kritis\n"
     ]
    }
   ],
   "source": [
    "sample = []\n",
    "for row in df[\"Conductivity\"]:\n",
    "    if (row > 450):\n",
    "        sample.append(row)\n",
    "print(len(sample)/len(df))\n",
    "\n",
    "print(\"H0                    : P0 = 0.1\")\n",
    "print(\"H1                    : P1 != 0.1\")\n",
    "alpha = 0.05\n",
    "print(\"Tingkat signifikasi(α):\", alpha)\n",
    "Z = 1.96\n",
    "print(\"Daerah kritis         : Z > \" +str(Z)+ \" or Z < -\" +str(Z))\n",
    "uji_statistik_proporsi(len(sample)/len(df), 0.1, len(df), Z)"
   ]
  },
  {
   "cell_type": "markdown",
   "metadata": {},
   "source": [
    "e. Proporsi nilai Trihalomethanes yang kurang dari 40, adalah kurang dari 5%?"
   ]
  },
  {
   "cell_type": "code",
   "execution_count": 63,
   "metadata": {},
   "outputs": [
    {
     "name": "stdout",
     "output_type": "stream",
     "text": [
      "106\n",
      "H0                    : P0 = 0.05\n",
      "H1                    : P1 < 0.05\n",
      "Tingkat signifikasi(α): 0.05\n",
      "Daerah kritis         : Z < -1.96\n",
      "Tes statistik         : 0.5628826416670951\n",
      "H0 diterima karena terletak di luar daerah kritis\n"
     ]
    }
   ],
   "source": [
    "sample2 = []\n",
    "for row in df[\"Trihalomethanes\"]:\n",
    "    if (row < 40):\n",
    "        sample2.append(row)\n",
    "print(len(sample2))\n",
    "print(\"H0                    : P0 = 0.05\")\n",
    "print(\"H1                    : P1 < 0.05\")\n",
    "alpha = 0.05\n",
    "print(\"Tingkat signifikasi(α):\", alpha)\n",
    "Z = 1.96\n",
    "print(\"Daerah kritis         : Z < -\" +str(Z))  \n",
    "uji_statistik_proporsi2(len(sample2)/len(df), 0.05, len(df), Z)"
   ]
  }
 ],
 "metadata": {
  "interpreter": {
   "hash": "7f316ce05a0c4170ba4484e3efd14dee3226178e34dfd81e786ec8a894f84480"
  },
  "kernelspec": {
   "display_name": "Python 3.10.0 64-bit",
   "language": "python",
   "name": "python3"
  },
  "language_info": {
   "codemirror_mode": {
    "name": "ipython",
    "version": 3
   },
   "file_extension": ".py",
   "mimetype": "text/x-python",
   "name": "python",
   "nbconvert_exporter": "python",
   "pygments_lexer": "ipython3",
   "version": "3.10.0"
  },
  "orig_nbformat": 4
 },
 "nbformat": 4,
 "nbformat_minor": 2
}
