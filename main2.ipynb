{
 "cells": [
  {
   "cell_type": "markdown",
   "metadata": {},
   "source": [
    "## 5. Melakukan test hipotesis 2 sampel, dengan menuliskan 6 langkah testing dan menampilkan juga boxplotnya untuk kolom/bagian yang bersesuaian.\n",
    "\n",
    "Enam Langkah Testing:\n",
    "1. Tentukan Hipotesis nol ($H_0$: θ = $θ_0$), dimana θ bisa berupa μ, $σ^{2}$, p, atau data lain berdistribusi tertentu (normal, binomial, dsc.).\n",
    "2. Pilih hipotesis alternatif H1 salah dari dari θ > $θ_0$, θ < $θ_0$, atau θ ≠ $θ_0$.\n",
    "3. Tentukan tingkat signifikan α.\n",
    "4. Tentukan uji statistik yang sesuai dan tentukan daerah kritis.\n",
    "5. Hitung nilai uji statistik dari data sample. Hitung p-value sesuai dengan uji statistik yang digunakan.\n",
    "6. Ambil keputusan dengan TOLAK $H_0$ jika nilai uji terletak di daerah kritis atau dengan tes signifikan, TOLAK $H_0$ jika p-value lebih kecil dibanding tingkat signifikansi α yang diinginkan.\n"
   ]
  },
  {
   "cell_type": "code",
   "execution_count": null,
   "metadata": {},
   "outputs": [],
   "source": [
    "#IMPORT MODULE & LOAD CSV\n",
    "import pandas as pd\n",
    "import matplotlib.pyplot as plt\n",
    "import numpy as np\n",
    "import seaborn as sns\n",
    "import scipy.stats as stats\n",
    "import math\n",
    "df = pd.read_csv('water_potability.csv', header=None)\n",
    "df.columns = [\"iD\", \"pH\", \"Hardness\", \"Solids\", \"Chloramines\", \"Sulfate\", \"Conductivity\", \"OrganicCarbon\", \"Trihalomethanes\", \"Turbidity\", \"Potabilty\"]\n",
    "df"
   ]
  },
  {
   "cell_type": "markdown",
   "metadata": {},
   "source": [
    "### a. Data kolom Sulfate dibagi 2 sama rata: bagian awal dan bagian akhir kolom. Benarkah rata-rata kedua bagian tersebut sama?\n"
   ]
  },
  {
   "cell_type": "markdown",
   "metadata": {},
   "source": [
    "1. Tentukan Hipotesis nol $H_0$ : $\\mu_1$ - $\\mu_2$ = 0\n",
    "2. Pilih Hipotesis Alternatif $H_{1}$ : $\\mu_1$ - $\\mu_2$ $\\neq$ 0\n",
    "3. Tentukan Tingkat Signifikan, karena tidak spesifik diberikan maka menggunakan $\\alpha$ = 0.05\n",
    "4. Tentukan Uji Statistik yang sesuai : \\\n",
    "Digunakan uji rata-rata dua populasi $\\mu_1$ - $\\mu_2$ = $d_0$ dengan standar deviasi diketahui (dapat dicari), \n",
    "z = $\\frac{(\\bar{x_1} - \\bar{x_2}) - d_0}{\\sqrt{\\sigma_1^2/n_1 + \\sigma_2^2/n_2}} $ dengan $d_0$ = 0 \\\n",
    "Daerah Kritis : \\\n",
    "$z < -z_\\frac{\\alpha}{2}$ atau $z > z_\\frac{\\alpha}{2}$ dengan $z_\\frac{\\alpha}{2}$ = 1.96 karena P(Z < z) = 1 - ($\\frac{0.05}{2}$) = 0.975 \\\n",
    "$z < -1.96$ atau $z > 1.96$\n",
    "5. Hitung nilai uji statistik dari data sample."
   ]
  },
  {
   "cell_type": "code",
   "execution_count": null,
   "metadata": {},
   "outputs": [],
   "source": [
    "xbar1 = df.loc[:1004].Sulfate.mean()\n",
    "xbar2 = df.loc[1005:].Sulfate.mean()\n",
    "std = df.Sulfate.std()\n",
    "n = 1005\n",
    "print(\"z = \", (xbar1 - xbar2)/(np.sqrt((pow(std,2)/n)+(pow(std,2)/n))))\n",
    "print(\"pval = \",(1 - stats.norm.cdf(abs((xbar1 - xbar2)/(np.sqrt((pow(std,2)/n)+(pow(std,2)/n))))))*2)"
   ]
  },
  {
   "cell_type": "markdown",
   "metadata": {},
   "source": [
    "6. Ambil keputusan : Tolak nilai $H_0$ karena nilai Z berada pada daerah kritis dan terima $H_1$, maka dapat diambil kesimpulan bahwa rata-rata kedua bagian tidaklah sama dan diperkuat dengan tes signifikansi dimana nilai p-value lebih kecil dari tingkat signifikan yang dipilih."
   ]
  },
  {
   "cell_type": "markdown",
   "metadata": {},
   "source": [
    "### b. Data kolom OrganicCarbon dibagi 2 sama rata: bagian awal dan bagian akhir kolom. Benarkah rata-rata bagian awal lebih besar dari pada bagian akhir sebesar 0.15?"
   ]
  },
  {
   "cell_type": "markdown",
   "metadata": {},
   "source": [
    "1. Tentukan Hipotesis nol $H_0$ : $\\mu_1$ - $\\mu_2$ = 0.15\n",
    "2. Pilih Hipotesis Alternatif $H_{1}$ : $\\mu_1$ - $\\mu_2$ $\\neq$ 0.15\n",
    "3. Tentukan Tingkat Signifikan, karena tidak spesifik diberikan maka menggunakan $\\alpha$ = 0.05\n",
    "4. Tentukan Uji Statistik yang sesuai : \\\n",
    "Digunakan uji rata-rata dua populasi $\\mu_1$ - $\\mu_2$ = $d_0$ dengan standar deviasi diketahui (dapat dicari), \n",
    "z = $\\frac{(\\bar{x_1} - \\bar{x_2}) - d_0}{\\sqrt{\\sigma_1^2/n_1 + \\sigma_2^2/n_2}} $ dengan $d_0$ = 0.15 \\\n",
    "Daerah Kritis : \\\n",
    "$z < -z_\\frac{\\alpha}{2}$ atau $z > z_\\frac{\\alpha}{2}$ dengan $z_\\frac{\\alpha}{2}$ = 1.96 karena P(Z < z) = 1 - ($\\frac{0.05}{2}$) = 0.975 \\\n",
    "$z < -1.96$ atau $z > 1.96$\n",
    "5. Hitung nilai uji statistik dari data sample."
   ]
  },
  {
   "cell_type": "code",
   "execution_count": null,
   "metadata": {},
   "outputs": [],
   "source": [
    "xbar1 = df.loc[:1004].OrganicCarbon.mean()\n",
    "xbar2 = df.loc[1005:].OrganicCarbon.mean()\n",
    "std = df.OrganicCarbon.std()\n",
    "n = 1005\n",
    "print(\"z = \",(xbar1 - xbar2 - 0.15)/(np.sqrt((pow(std,2)/n)+(pow(std,2)/n))))\n",
    "print(\"pval = \",(1 - stats.norm.cdf(abs((xbar1 - xbar2 - 0.15)/(np.sqrt((pow(std,2)/n)+(pow(std,2)/n))))))*2)"
   ]
  },
  {
   "cell_type": "markdown",
   "metadata": {},
   "source": [
    "6. Ambil keputusan : Tolak nilai $H_0$ karena nilai Z berada pada daerah kritis dan terima $H_1$, maka dapat diambil kesimpulan bahwa rata-rata bagian awal kolom OrganicCarbon tidak lebih besar dari pada bagian akhirnya sebesar 0.15 dan diperkuat dengan tes signifikansi dimana nilai p-value lebih kecil dari tingkat signifikan yang dipilih."
   ]
  },
  {
   "cell_type": "markdown",
   "metadata": {},
   "source": [
    "### c. Rata-rata 100 baris pertama kolom Chloramines sama dengan 100 baris terakhirnya?"
   ]
  },
  {
   "cell_type": "markdown",
   "metadata": {},
   "source": [
    "1. Tentukan Hipotesis nol $H_0$ : $\\mu_1$ - $\\mu_2$ = 0\n",
    "2. Pilih Hipotesis Alternatif $H_{1}$ : $\\mu_1$ - $\\mu_2$ $\\neq$ 0\n",
    "3. Tentukan Tingkat Signifikan, karena tidak spesifik diberikan maka menggunakan $\\alpha$ = 0.05\n",
    "4. Tentukan Uji Statistik yang sesuai : \\\n",
    "Digunakan uji rata-rata dua populasi $\\mu_1$ - $\\mu_2$ = $d_0$ dengan standar deviasi diketahui (dapat dicari), \n",
    "z = $\\frac{(\\bar{x_1} - \\bar{x_2}) - d_0}{\\sqrt{\\sigma_1^2/n_1 + \\sigma_2^2/n_2}} $ dengan $d_0$ = 0 \\\n",
    "Daerah Kritis : \\\n",
    "$z < -z_\\frac{\\alpha}{2}$ atau $z > z_\\frac{\\alpha}{2}$ dengan $z_\\frac{\\alpha}{2}$ = 1.96 karena P(Z < z) = 1 - ($\\frac{0.05}{2}$) = 0.975 \\\n",
    "$z < -1.96$ atau $z > 1.96$\n",
    "5. Hitung nilai uji statistik dari data sample."
   ]
  },
  {
   "cell_type": "code",
   "execution_count": null,
   "metadata": {},
   "outputs": [],
   "source": [
    "xbar1 = df.loc[:99].Chloramines.mean()\n",
    "xbar2 = df.loc[1910:].Chloramines.mean()\n",
    "std = df.Chloramines.std()\n",
    "n = 100\n",
    "print(\"z = \",(xbar1 - xbar2)/(np.sqrt((std**2/n)+(std**2/n))))\n",
    "print(\"pval = \",(1 - stats.norm.cdf(abs((xbar1 - xbar2)/(np.sqrt((std**2/n)+(std**2/n))))))*2)"
   ]
  },
  {
   "cell_type": "markdown",
   "metadata": {},
   "source": [
    "6. Ambil keputusan : Terima nilai $H_0$ karena nilai Z berada di luar daerah kritis dan tolak $H_1$, maka dapat diambil kesimpulan bahwa rata-rata 100 baris pertama dan 100 baris terakhir kolom Chloramines sama dan diperkuat dengan tes signifikansi dimana nilai p-value lebih besar dari tingkat signifikan yang dipilih."
   ]
  },
  {
   "cell_type": "markdown",
   "metadata": {},
   "source": [
    "### d. Proporsi nilai bagian awal Turbidity yang lebih dari 4, adalah lebih besar daripada, proporsi nilai yang sama di bagian akhir Turbidity ?"
   ]
  },
  {
   "cell_type": "markdown",
   "metadata": {},
   "source": [
    "1. Tentukan Hipotesis nol $H_0$ : $p_1$ - $p_2$ = 0\n",
    "2. Pilih Hipotesis Alternatif $H_{1}$ : $p_1$ - $p_2$ > 0\n",
    "3. Tentukan Tingkat Signifikan, karena tidak spesifik diberikan maka menggunakan $\\alpha$ = 0.05\n",
    "4. Tentukan Uji Statistik yang sesuai : \\\n",
    "Digunakan uji proporsi dengan distribusi normal, \n",
    "z = $ \\frac{(\\hat{p_1} - \\hat{p_2})}{\\sqrt{\\bar{p}\\bar{q}(1/n_1 + 1/n_2)}} $ \\\n",
    "Daerah Kritis : \\\n",
    "$z > z_{\\alpha}$ dengan $z_{\\alpha}$ = 1.645 karena P(Z < z) = 1 - 0.05 = 0.95 \\\n",
    "$z > 1.645$\n",
    "5. Hitung nilai uji statistik dari data sample."
   ]
  },
  {
   "cell_type": "code",
   "execution_count": null,
   "metadata": {},
   "outputs": [],
   "source": [
    "n1 = n2 = 1005\n",
    "pHat1 = len(df.head(1005)[df.head(1005)[\"Turbidity\"] > 4]) / 1005\n",
    "pHat2 = len(df.tail(1005)[df.tail(1005)[\"Turbidity\"] > 4]) / 1005\n",
    "pBar = pHat1 + pHat2 / 2010\n",
    "# qbar = 1-pBar\n",
    "print(\"z = \",(pHat1 - pHat2)/(np.sqrt(pBar*(1-pBar)*(1/n1)+(1/n2))))"
   ]
  },
  {
   "cell_type": "markdown",
   "metadata": {},
   "source": [
    "6. Ambil keputusan : Terima nilai $H_0$ karena nilai Z berada di luar daerah kritis dan tolak $H_1$, maka dapat diambil kesimpulan bahwa proporsi nilai bagian awal Turbidity yang lebih dari 4 sama dengan proporsi nilai yang sama di bagian akhir"
   ]
  },
  {
   "cell_type": "markdown",
   "metadata": {},
   "source": [
    "### e. Bagian awal kolom Sulfate memiliki variansi yang sama dengan bagian akhirnya?"
   ]
  },
  {
   "cell_type": "markdown",
   "metadata": {},
   "source": [
    "1. Tentukan Nilai Hipotesis nol $H_0$ : $\\sigma_1^2$ = $\\sigma_2^2$\n",
    "2. Pilih Hipotesis Alternatif $H_1$ : $\\sigma_1^2$ $\\neq$ $\\sigma_2^2$\n",
    "3. Tentukan Tingkat Signifikan, karena tidak spesifik diberikan maka menggunakan $\\alpha$ = 0.05\n",
    "4. Tentukan Uji Statistik yang sesuai \\\n",
    "Digunakan uji variansi dua populasi dengan distribusi f , f = $\\dfrac{s_1^2}{s_2^2} $ \\\n",
    "Daerah kritis : \\\n",
    "$f < f_\\frac{1 - \\alpha}{2} (v_1, v_2)$ atau $f > f_\\frac{\\alpha}{2}(v_1, v_2)$ dengan $v_1 = n_1 -1$, $v_2 = n_2 -1$"
   ]
  },
  {
   "cell_type": "code",
   "execution_count": null,
   "metadata": {},
   "outputs": [],
   "source": [
    "n = (len(df.Sulfate)/2) - 1\n",
    "f1 = stats.f.ppf(0.025, n, n)\n",
    "f2 = stats.f.ppf(0.975, n, n)\n",
    "print(\"Daerah kritis : f <\", f1, \"atau f >\", f2)"
   ]
  },
  {
   "cell_type": "markdown",
   "metadata": {},
   "source": [
    "5. Hitung nilai uji statistik dari data sample."
   ]
  },
  {
   "cell_type": "code",
   "execution_count": null,
   "metadata": {},
   "outputs": [],
   "source": [
    "var1 = df.Sulfate.loc[:1004].var()\n",
    "var2 = df.Sulfate.loc[1005:].var()\n",
    "print(\"f = \", var1/var2)"
   ]
  },
  {
   "cell_type": "markdown",
   "metadata": {},
   "source": [
    "6. Ambil keputusan : Terima nilai $H_0$ karena nilai f berada di luar daerah kritis dan tolak $H_1$, maka dapat diambil kesimpulan bahwa variansi bagian awal dan bagian akhir kolom Sulfate sama"
   ]
  }
 ],
 "metadata": {
  "interpreter": {
   "hash": "8cd08c67b683c73572fc20c7bd7375ac3011ed29d42e26eb0eeb78803bc48ba9"
  },
  "kernelspec": {
   "display_name": "Python 3.10.4 64-bit",
   "language": "python",
   "name": "python3"
  },
  "language_info": {
   "codemirror_mode": {
    "name": "ipython",
    "version": 3
   },
   "file_extension": ".py",
   "mimetype": "text/x-python",
   "name": "python",
   "nbconvert_exporter": "python",
   "pygments_lexer": "ipython3",
   "version": "3.10.4"
  },
  "orig_nbformat": 4
 },
 "nbformat": 4,
 "nbformat_minor": 2
}
