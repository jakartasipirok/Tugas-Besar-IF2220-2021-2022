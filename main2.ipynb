{
 "cells": [
  {
   "cell_type": "markdown",
   "metadata": {},
   "source": [
    "## 5. Melakukan test hipotesis 2 sampel, dengan menuliskan 6 langkah testing dan menampilkan juga boxplotnya untuk kolom/bagian yang bersesuaian.\n",
    "\n",
    "Enam Langkah Testing:\n",
    "1. Tentukan Hipotesis nol ($H_0$: θ = $θ_0$), dimana θ bisa berupa μ, $σ^{2}$, p, atau data lain berdistribusi tertentu (normal, binomial, dsc.).\n",
    "2. Pilih hipotesis alternatif H1 salah dari dari θ > $θ_0$, θ < $θ_0$, atau θ ≠ $θ_0$.\n",
    "3. Tentukan tingkat signifikan α.\n",
    "4. Tentukan uji statistik yang sesuai dan tentukan daerah kritis.\n",
    "5. Hitung nilai uji statistik dari data sample. Hitung p-value sesuai dengan uji statistik yang digunakan.\n",
    "6. Ambil keputusan dengan TOLAK $H_0$ jika nilai uji terletak di daerah kritis atau dengan tes signifikan, TOLAK $H_0$ jika p-value lebih kecil dibanding tingkat signifikansi α yang diinginkan.\n"
   ]
  },
  {
   "cell_type": "code",
   "execution_count": 2,
   "metadata": {},
   "outputs": [
    {
     "data": {
      "text/html": [
       "<div>\n",
       "<style scoped>\n",
       "    .dataframe tbody tr th:only-of-type {\n",
       "        vertical-align: middle;\n",
       "    }\n",
       "\n",
       "    .dataframe tbody tr th {\n",
       "        vertical-align: top;\n",
       "    }\n",
       "\n",
       "    .dataframe thead th {\n",
       "        text-align: right;\n",
       "    }\n",
       "</style>\n",
       "<table border=\"1\" class=\"dataframe\">\n",
       "  <thead>\n",
       "    <tr style=\"text-align: right;\">\n",
       "      <th></th>\n",
       "      <th>iD</th>\n",
       "      <th>pH</th>\n",
       "      <th>Hardness</th>\n",
       "      <th>Solids</th>\n",
       "      <th>Chloramines</th>\n",
       "      <th>Sulfate</th>\n",
       "      <th>Conductivity</th>\n",
       "      <th>OrganicCarbon</th>\n",
       "      <th>Trihalomethanes</th>\n",
       "      <th>Turbidity</th>\n",
       "      <th>Potabilty</th>\n",
       "    </tr>\n",
       "  </thead>\n",
       "  <tbody>\n",
       "    <tr>\n",
       "      <th>0</th>\n",
       "      <td>1</td>\n",
       "      <td>8.316766</td>\n",
       "      <td>214.373394</td>\n",
       "      <td>22018.417441</td>\n",
       "      <td>8.059332</td>\n",
       "      <td>356.886136</td>\n",
       "      <td>363.266516</td>\n",
       "      <td>18.436524</td>\n",
       "      <td>100.341674</td>\n",
       "      <td>4.628771</td>\n",
       "      <td>0</td>\n",
       "    </tr>\n",
       "    <tr>\n",
       "      <th>1</th>\n",
       "      <td>2</td>\n",
       "      <td>9.092223</td>\n",
       "      <td>181.101509</td>\n",
       "      <td>17978.986339</td>\n",
       "      <td>6.546600</td>\n",
       "      <td>310.135738</td>\n",
       "      <td>398.410813</td>\n",
       "      <td>11.558279</td>\n",
       "      <td>31.997993</td>\n",
       "      <td>4.075075</td>\n",
       "      <td>0</td>\n",
       "    </tr>\n",
       "    <tr>\n",
       "      <th>2</th>\n",
       "      <td>3</td>\n",
       "      <td>5.584087</td>\n",
       "      <td>188.313324</td>\n",
       "      <td>28748.687739</td>\n",
       "      <td>7.544869</td>\n",
       "      <td>326.678363</td>\n",
       "      <td>280.467916</td>\n",
       "      <td>8.399735</td>\n",
       "      <td>54.917862</td>\n",
       "      <td>2.559708</td>\n",
       "      <td>0</td>\n",
       "    </tr>\n",
       "    <tr>\n",
       "      <th>3</th>\n",
       "      <td>4</td>\n",
       "      <td>10.223862</td>\n",
       "      <td>248.071735</td>\n",
       "      <td>28749.716544</td>\n",
       "      <td>7.513408</td>\n",
       "      <td>393.663396</td>\n",
       "      <td>283.651634</td>\n",
       "      <td>13.789695</td>\n",
       "      <td>84.603556</td>\n",
       "      <td>2.672989</td>\n",
       "      <td>0</td>\n",
       "    </tr>\n",
       "    <tr>\n",
       "      <th>4</th>\n",
       "      <td>5</td>\n",
       "      <td>8.635849</td>\n",
       "      <td>203.361523</td>\n",
       "      <td>13672.091764</td>\n",
       "      <td>4.563009</td>\n",
       "      <td>303.309771</td>\n",
       "      <td>474.607645</td>\n",
       "      <td>12.363817</td>\n",
       "      <td>62.798309</td>\n",
       "      <td>4.401425</td>\n",
       "      <td>0</td>\n",
       "    </tr>\n",
       "    <tr>\n",
       "      <th>...</th>\n",
       "      <td>...</td>\n",
       "      <td>...</td>\n",
       "      <td>...</td>\n",
       "      <td>...</td>\n",
       "      <td>...</td>\n",
       "      <td>...</td>\n",
       "      <td>...</td>\n",
       "      <td>...</td>\n",
       "      <td>...</td>\n",
       "      <td>...</td>\n",
       "      <td>...</td>\n",
       "    </tr>\n",
       "    <tr>\n",
       "      <th>2005</th>\n",
       "      <td>2006</td>\n",
       "      <td>8.197353</td>\n",
       "      <td>203.105091</td>\n",
       "      <td>27701.794055</td>\n",
       "      <td>6.472914</td>\n",
       "      <td>328.886838</td>\n",
       "      <td>444.612724</td>\n",
       "      <td>14.250875</td>\n",
       "      <td>62.906205</td>\n",
       "      <td>3.361833</td>\n",
       "      <td>1</td>\n",
       "    </tr>\n",
       "    <tr>\n",
       "      <th>2006</th>\n",
       "      <td>2007</td>\n",
       "      <td>8.989900</td>\n",
       "      <td>215.047358</td>\n",
       "      <td>15921.412018</td>\n",
       "      <td>6.297312</td>\n",
       "      <td>312.931022</td>\n",
       "      <td>390.410231</td>\n",
       "      <td>9.899115</td>\n",
       "      <td>55.069304</td>\n",
       "      <td>4.613843</td>\n",
       "      <td>1</td>\n",
       "    </tr>\n",
       "    <tr>\n",
       "      <th>2007</th>\n",
       "      <td>2008</td>\n",
       "      <td>6.702547</td>\n",
       "      <td>207.321086</td>\n",
       "      <td>17246.920347</td>\n",
       "      <td>7.708117</td>\n",
       "      <td>304.510230</td>\n",
       "      <td>329.266002</td>\n",
       "      <td>16.217303</td>\n",
       "      <td>28.878601</td>\n",
       "      <td>3.442983</td>\n",
       "      <td>1</td>\n",
       "    </tr>\n",
       "    <tr>\n",
       "      <th>2008</th>\n",
       "      <td>2009</td>\n",
       "      <td>11.491011</td>\n",
       "      <td>94.812545</td>\n",
       "      <td>37188.826022</td>\n",
       "      <td>9.263166</td>\n",
       "      <td>258.930600</td>\n",
       "      <td>439.893618</td>\n",
       "      <td>16.172755</td>\n",
       "      <td>41.558501</td>\n",
       "      <td>4.369264</td>\n",
       "      <td>1</td>\n",
       "    </tr>\n",
       "    <tr>\n",
       "      <th>2009</th>\n",
       "      <td>2010</td>\n",
       "      <td>6.069616</td>\n",
       "      <td>186.659040</td>\n",
       "      <td>26138.780191</td>\n",
       "      <td>7.747547</td>\n",
       "      <td>345.700257</td>\n",
       "      <td>415.886955</td>\n",
       "      <td>12.067620</td>\n",
       "      <td>60.419921</td>\n",
       "      <td>3.669712</td>\n",
       "      <td>1</td>\n",
       "    </tr>\n",
       "  </tbody>\n",
       "</table>\n",
       "<p>2010 rows × 11 columns</p>\n",
       "</div>"
      ],
      "text/plain": [
       "        iD         pH    Hardness        Solids  Chloramines     Sulfate  \\\n",
       "0        1   8.316766  214.373394  22018.417441     8.059332  356.886136   \n",
       "1        2   9.092223  181.101509  17978.986339     6.546600  310.135738   \n",
       "2        3   5.584087  188.313324  28748.687739     7.544869  326.678363   \n",
       "3        4  10.223862  248.071735  28749.716544     7.513408  393.663396   \n",
       "4        5   8.635849  203.361523  13672.091764     4.563009  303.309771   \n",
       "...    ...        ...         ...           ...          ...         ...   \n",
       "2005  2006   8.197353  203.105091  27701.794055     6.472914  328.886838   \n",
       "2006  2007   8.989900  215.047358  15921.412018     6.297312  312.931022   \n",
       "2007  2008   6.702547  207.321086  17246.920347     7.708117  304.510230   \n",
       "2008  2009  11.491011   94.812545  37188.826022     9.263166  258.930600   \n",
       "2009  2010   6.069616  186.659040  26138.780191     7.747547  345.700257   \n",
       "\n",
       "      Conductivity  OrganicCarbon  Trihalomethanes  Turbidity  Potabilty  \n",
       "0       363.266516      18.436524       100.341674   4.628771          0  \n",
       "1       398.410813      11.558279        31.997993   4.075075          0  \n",
       "2       280.467916       8.399735        54.917862   2.559708          0  \n",
       "3       283.651634      13.789695        84.603556   2.672989          0  \n",
       "4       474.607645      12.363817        62.798309   4.401425          0  \n",
       "...            ...            ...              ...        ...        ...  \n",
       "2005    444.612724      14.250875        62.906205   3.361833          1  \n",
       "2006    390.410231       9.899115        55.069304   4.613843          1  \n",
       "2007    329.266002      16.217303        28.878601   3.442983          1  \n",
       "2008    439.893618      16.172755        41.558501   4.369264          1  \n",
       "2009    415.886955      12.067620        60.419921   3.669712          1  \n",
       "\n",
       "[2010 rows x 11 columns]"
      ]
     },
     "execution_count": 2,
     "metadata": {},
     "output_type": "execute_result"
    }
   ],
   "source": [
    "#IMPORT MODULE & LOAD CSV\n",
    "import pandas as pd\n",
    "import matplotlib.pyplot as plt\n",
    "import numpy as np\n",
    "import seaborn as sns\n",
    "import scipy.stats as stats\n",
    "import math\n",
    "df = pd.read_csv('water_potability.csv', header=None)\n",
    "df.columns = [\"iD\", \"pH\", \"Hardness\", \"Solids\", \"Chloramines\", \"Sulfate\", \"Conductivity\", \"OrganicCarbon\", \"Trihalomethanes\", \"Turbidity\", \"Potabilty\"]\n",
    "df"
   ]
  },
  {
   "cell_type": "markdown",
   "metadata": {},
   "source": [
    "### a. Data kolom Sulfate dibagi 2 sama rata: bagian awal dan bagian akhir kolom. Benarkah rata-rata kedua bagian tersebut sama?\n"
   ]
  },
  {
   "cell_type": "markdown",
   "metadata": {},
   "source": [
    "1. Tentukan Hipotesis nol $H_0$ : $\\mu_1$ - $\\mu_2$ = 0\n",
    "2. Pilih Hipotesis Alternatif $H_{1}$ : $\\mu_1$ - $\\mu_2$ $\\neq$ 0\n",
    "3. Tentukan Tingkat Signifikan, karena tidak spesifik diberikan maka menggunakan $\\alpha$ = 0.05\n",
    "4. Tentukan Uji Statistik yang sesuai : \\\n",
    "Digunakan uji rata-rata dua populasi $\\mu_1$ - $\\mu_2$ = $d_0$ dengan standar deviasi diketahui (dapat dicari), \n",
    "z = $\\frac{(\\bar{x_1} - \\bar{x_2}) - d_0}{\\sqrt{\\sigma_1^2/n_1 + \\sigma_2^2/n_2}} $ dengan $d_0$ = 0 \\\n",
    "Daerah Kritis : \\\n",
    "$z < -z_\\frac{\\alpha}{2}$ atau $z > z_\\frac{\\alpha}{2}$ dengan $z_\\frac{\\alpha}{2}$ = 1.96 karena P(Z < z) = 1 - ($\\frac{0.05}{2}$) = 0.975 \\\n",
    "$z < -1.96$ atau $z > 1.96$\n",
    "5. Hitung nilai uji statistik dari data sample."
   ]
  },
  {
   "cell_type": "code",
   "execution_count": 3,
   "metadata": {},
   "outputs": [
    {
     "name": "stdout",
     "output_type": "stream",
     "text": [
      "z =  -2.0735632660592493\n",
      "pval =  0.03811988973939884\n"
     ]
    }
   ],
   "source": [
    "xbar1 = df.loc[:1004].Sulfate.mean()\n",
    "xbar2 = df.loc[1005:].Sulfate.mean()\n",
    "std = df.Sulfate.std()\n",
    "n = 1005\n",
    "print(\"z = \", (xbar1 - xbar2)/(np.sqrt((pow(std,2)/n)+(pow(std,2)/n))))\n",
    "print(\"pval = \",(1 - stats.norm.cdf(abs((xbar1 - xbar2)/(np.sqrt((pow(std,2)/n)+(pow(std,2)/n))))))*2)"
   ]
  },
  {
   "cell_type": "markdown",
   "metadata": {},
   "source": [
    "6. Ambil keputusan : Tolak nilai $H_0$ karena nilai Z berada pada daerah kritis dan terima $H_1$, maka dapat diambil kesimpulan bahwa rata-rata kedua bagian tidaklah sama dan diperkuat dengan tes signifikansi dimana nilai p-value lebih kecil dari tingkat signifikan yang dipilih."
   ]
  },
  {
   "cell_type": "markdown",
   "metadata": {},
   "source": [
    "### b. Data kolom OrganicCarbon dibagi 2 sama rata: bagian awal dan bagian akhir kolom. Benarkah rata-rata bagian awal lebih besar dari pada bagian akhir sebesar 0.15?"
   ]
  },
  {
   "cell_type": "markdown",
   "metadata": {},
   "source": [
    "1. Tentukan Hipotesis nol $H_0$ : $\\mu_1$ - $\\mu_2$ = 0.15\n",
    "2. Pilih Hipotesis Alternatif $H_{1}$ : $\\mu_1$ - $\\mu_2$ $\\neq$ 0.15\n",
    "3. Tentukan Tingkat Signifikan, karena tidak spesifik diberikan maka menggunakan $\\alpha$ = 0.05\n",
    "4. Tentukan Uji Statistik yang sesuai : \\\n",
    "Digunakan uji rata-rata dua populasi $\\mu_1$ - $\\mu_2$ = $d_0$ dengan standar deviasi diketahui (dapat dicari), \n",
    "z = $\\frac{(\\bar{x_1} - \\bar{x_2}) - d_0}{\\sqrt{\\sigma_1^2/n_1 + \\sigma_2^2/n_2}} $ dengan $d_0$ = 0.15 \\\n",
    "Daerah Kritis : \\\n",
    "$z < -z_\\frac{\\alpha}{2}$ atau $z > z_\\frac{\\alpha}{2}$ dengan $z_\\frac{\\alpha}{2}$ = 1.96 karena P(Z < z) = 1 - ($\\frac{0.05}{2}$) = 0.975 \\\n",
    "$z < -1.96$ atau $z > 1.96$\n",
    "5. Hitung nilai uji statistik dari data sample."
   ]
  },
  {
   "cell_type": "code",
   "execution_count": 8,
   "metadata": {},
   "outputs": [
    {
     "name": "stdout",
     "output_type": "stream",
     "text": [
      "z =  -2.412566026857564\n",
      "pval =  0.015840668015256965\n"
     ]
    }
   ],
   "source": [
    "xbar1 = df.loc[:1004].OrganicCarbon.mean()\n",
    "xbar2 = df.loc[1005:].OrganicCarbon.mean()\n",
    "std = df.OrganicCarbon.std()\n",
    "n = 1005\n",
    "print(\"z = \",(xbar1 - xbar2 - 0.15)/(np.sqrt((pow(std,2)/n)+(pow(std,2)/n))))\n",
    "print(\"pval = \",(1 - stats.norm.cdf(abs((xbar1 - xbar2 - 0.15)/(np.sqrt((pow(std,2)/n)+(pow(std,2)/n))))))*2)"
   ]
  },
  {
   "cell_type": "markdown",
   "metadata": {},
   "source": [
    "6. Ambil keputusan : Tolak nilai $H_0$ karena nilai Z berada pada daerah kritis dan terima $H_1$, maka dapat diambil kesimpulan bahwa rata-rata bagian awal kolom OrganicCarbon tidak lebih besar dari pada bagian akhirnya sebesar 0.15 dan diperkuat dengan tes signifikansi dimana nilai p-value lebih kecil dari tingkat signifikan yang dipilih."
   ]
  },
  {
   "cell_type": "markdown",
   "metadata": {},
   "source": [
    "### c. Rata-rata 100 baris pertama kolom Chloramines sama dengan 100 baris terakhirnya?"
   ]
  },
  {
   "cell_type": "markdown",
   "metadata": {},
   "source": [
    "1. Tentukan Hipotesis nol $H_0$ : $\\mu_1$ - $\\mu_2$ = 0\n",
    "2. Pilih Hipotesis Alternatif $H_{1}$ : $\\mu_1$ - $\\mu_2$ $\\neq$ 0\n",
    "3. Tentukan Tingkat Signifikan, karena tidak spesifik diberikan maka menggunakan $\\alpha$ = 0.05\n",
    "4. Tentukan Uji Statistik yang sesuai : \\\n",
    "Digunakan uji rata-rata dua populasi $\\mu_1$ - $\\mu_2$ = $d_0$ dengan standar deviasi diketahui (dapat dicari), \n",
    "z = $\\frac{(\\bar{x_1} - \\bar{x_2}) - d_0}{\\sqrt{\\sigma_1^2/n_1 + \\sigma_2^2/n_2}} $ dengan $d_0$ = 0 \\\n",
    "Daerah Kritis : \\\n",
    "$z < -z_\\frac{\\alpha}{2}$ atau $z > z_\\frac{\\alpha}{2}$ dengan $z_\\frac{\\alpha}{2}$ = 1.96 karena P(Z < z) = 1 - ($\\frac{0.05}{2}$) = 0.975 \\\n",
    "$z < -1.96$ atau $z > 1.96$\n",
    "5. Hitung nilai uji statistik dari data sample."
   ]
  },
  {
   "cell_type": "code",
   "execution_count": 9,
   "metadata": {},
   "outputs": [
    {
     "name": "stdout",
     "output_type": "stream",
     "text": [
      "z =  -0.6219312633138907\n",
      "pval =  0.5339870668355124\n"
     ]
    }
   ],
   "source": [
    "xbar1 = df.loc[:99].Chloramines.mean()\n",
    "xbar2 = df.loc[1910:].Chloramines.mean()\n",
    "std = df.Chloramines.std()\n",
    "n = 100\n",
    "print(\"z = \",(xbar1 - xbar2)/(np.sqrt((std**2/n)+(std**2/n))))\n",
    "print(\"pval = \",(1 - stats.norm.cdf(abs((xbar1 - xbar2)/(np.sqrt((std**2/n)+(std**2/n))))))*2)"
   ]
  },
  {
   "cell_type": "markdown",
   "metadata": {},
   "source": [
    "6. Ambil keputusan : Terima nilai $H_0$ karena nilai Z berada di luar daerah kritis dan tolak $H_1$, maka dapat diambil kesimpulan bahwa rata-rata 100 baris pertama dan 100 baris terakhir kolom Chloramines sama dan diperkuat dengan tes signifikansi dimana nilai p-value lebih besar dari tingkat signifikan yang dipilih."
   ]
  },
  {
   "cell_type": "markdown",
   "metadata": {},
   "source": [
    "### d. Proporsi nilai bagian awal Turbidity yang lebih dari 4, adalah lebih besar daripada, proporsi nilai yang sama di bagian akhir Turbidity ?"
   ]
  },
  {
   "cell_type": "markdown",
   "metadata": {},
   "source": [
    "1. Tentukan Hipotesis nol $H_0$ : $p_1$ - $p_2$ = 0\n",
    "2. Pilih Hipotesis Alternatif $H_{1}$ : $p_1$ - $p_2$ > 0\n",
    "3. Tentukan Tingkat Signifikan, karena tidak spesifik diberikan maka menggunakan $\\alpha$ = 0.05\n",
    "4. Tentukan Uji Statistik yang sesuai : \\\n",
    "Digunakan uji proporsi dengan distribusi normal, \n",
    "z = $ \\frac{(\\hat{p_1} - \\hat{p_2})}{\\sqrt{\\bar{p}\\bar{q}(1/n_1 + 1/n_2)}} $ \\\n",
    "Daerah Kritis : \\\n",
    "$z < -z_\\frac{\\alpha}{2}$ atau $z > z_\\frac{\\alpha}{2}$ dengan $z_\\frac{\\alpha}{2}$ = 1.96 karena P(Z < z) = 1 - ($\\frac{0.05}{2}$) = 0.975 \\\n",
    "$z < -1.96$ atau $z > 1.96$\n",
    "5. Hitung nilai uji statistik dari data sample."
   ]
  },
  {
   "cell_type": "code",
   "execution_count": 22,
   "metadata": {},
   "outputs": [
    {
     "name": "stdout",
     "output_type": "stream",
     "text": [
      "z =  -0.08465033413176168\n"
     ]
    }
   ],
   "source": [
    "n1 = n2 = 1005\n",
    "pHat1 = len(df.head(1005)[df.head(1005)[\"Turbidity\"] > 4]) / 1005\n",
    "pHat2 = len(df.tail(1005)[df.tail(1005)[\"Turbidity\"] > 4]) / 1005\n",
    "pBar = pHat1 + pHat2 / 2010\n",
    "# qbar = 1-pBar\n",
    "print(\"z = \",(pHat1 - pHat2)/(np.sqrt(pBar*(1-pBar)*(1/n1)+(1/n2))))"
   ]
  },
  {
   "cell_type": "markdown",
   "metadata": {},
   "source": [
    "6. Ambil keputusan : Terima nilai $H_0$ karena nilai Z berada di luar daerah kritis dan tolak $H_1$, maka dapat diambil kesimpulan bahwa proporsi nilai bagian awal Turbidity yang lebih dari 4 sama dengan proporsi nilai yang sama di bagian akhir"
   ]
  },
  {
   "cell_type": "markdown",
   "metadata": {},
   "source": [
    "### e. Bagian awal kolom Sulfate memiliki variansi yang sama dengan bagian akhirnya?"
   ]
  },
  {
   "cell_type": "markdown",
   "metadata": {},
   "source": [
    "1. Tentukan Nilai Hipotesis nol $H_0$ : $\\sigma_1^2$ = $\\sigma_2^2$\n",
    "2. Pilih Hipotesis Alternatif $H_1$ : $\\sigma_1^2$ $\\neq$ $\\sigma_2^2$\n",
    "3. Tentukan Tingkat Signifikan, karena tidak spesifik diberikan maka menggunakan $\\alpha$ = 0.05\n",
    "4. Tentukan Uji Statistik yang sesuai \\\n",
    "Digunakan uji variansi dua populasi dengan distribusi f , f = $\\dfrac{s_1^2}{s_2^2} $ \\\n",
    "Daerah kritis : \\\n",
    "$f < f_\\frac{1 - \\alpha}{2} (v_1, v_2)$ atau $f > f_\\frac{\\alpha}{2}(v_1, v_2)$ dengan $v_1 = n_1 -1$, $v_2 = n_2 -1$"
   ]
  },
  {
   "cell_type": "code",
   "execution_count": 6,
   "metadata": {},
   "outputs": [
    {
     "name": "stdout",
     "output_type": "stream",
     "text": [
      "Daerah kritis : f < 0.883572344355818 atau f > 1.1317692392568777\n"
     ]
    }
   ],
   "source": [
    "n = (len(df.Sulfate)/2) - 1\n",
    "f1 = stats.f.ppf(0.025, n, n)\n",
    "f2 = stats.f.ppf(0.975, n, n)\n",
    "print(\"Daerah kritis : f <\", f1, \"atau f >\", f2)"
   ]
  },
  {
   "cell_type": "markdown",
   "metadata": {},
   "source": [
    "5. Hitung nilai uji statistik dari data sample."
   ]
  },
  {
   "cell_type": "code",
   "execution_count": 7,
   "metadata": {},
   "outputs": [
    {
     "name": "stdout",
     "output_type": "stream",
     "text": [
      "f =  1.0152511043950063\n"
     ]
    }
   ],
   "source": [
    "var1 = df.Sulfate.loc[:1004].var()\n",
    "var2 = df.Sulfate.loc[1005:].var()\n",
    "print(\"f = \", var1/var2)"
   ]
  },
  {
   "cell_type": "markdown",
   "metadata": {},
   "source": [
    "6. Ambil keputusan : Terima nilai $H_0$ karena nilai f berada di luar daerah kritis dan tolak $H_1$, maka dapat diambil kesimpulan bahwa variansi bagian awal dan bagian akhir kolom Sulfate sama"
   ]
  }
 ],
 "metadata": {
  "interpreter": {
   "hash": "8cd08c67b683c73572fc20c7bd7375ac3011ed29d42e26eb0eeb78803bc48ba9"
  },
  "kernelspec": {
   "display_name": "Python 3.10.4 64-bit",
   "language": "python",
   "name": "python3"
  },
  "language_info": {
   "codemirror_mode": {
    "name": "ipython",
    "version": 3
   },
   "file_extension": ".py",
   "mimetype": "text/x-python",
   "name": "python",
   "nbconvert_exporter": "python",
   "pygments_lexer": "ipython3",
   "version": "3.10.4"
  },
  "orig_nbformat": 4
 },
 "nbformat": 4,
 "nbformat_minor": 2
}
